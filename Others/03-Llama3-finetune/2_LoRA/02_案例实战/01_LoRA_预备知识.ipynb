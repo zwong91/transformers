{
 "cells": [
  {
   "cell_type": "markdown",
   "id": "4da7a5f6-c9ba-4d81-a701-d08ed4d6e0e6",
   "metadata": {},
   "source": [
    "# 1. 预备知识"
   ]
  },
  {
   "cell_type": "markdown",
   "id": "fdc32206-6cc7-4c3c-badc-e475c97799bc",
   "metadata": {},
   "source": [
    "## 1.1 低秩矩阵分解"
   ]
  },
  {
   "cell_type": "markdown",
   "id": "b4a3b66f-1fc5-4201-80be-91f8c699c571",
   "metadata": {},
   "source": [
    "低秩矩阵分解是一种将高维矩阵近似为两个低维矩阵乘积的技术，常用于数据降维、压缩、推荐系统等领域。\n",
    "\n",
    "**步骤1：理解目标**  \n",
    "我们有一个高维矩阵 $\\Delta W$ ，希望将其近似为两个低维矩阵$A$和$B$的乘积，即$\\Delta W \\approx BA$。\n",
    "\n",
    "**步骤2：设定矩阵维度**  \n",
    "假设 $\\Delta W$是一个$d \\times d$的矩阵。我们选择一个较小的整数 $r$，使得 $r \\ll d$ 。矩阵 $A$ 的维度将是 $d \\times r$ ，矩阵 $B$ 的维度将是 $r \\times d$ 。\n",
    "\n",
    "**步骤3：矩阵初始化**  \n",
    "- 初始化矩阵 $A$ 和 $B$ 。可以使用随机初始化、正态分布初始化等方法。例如：  \n",
    "  - $A \\sim \\mathcal{N}(0, \\sigma^2)$ ，表示矩阵 $A$ 的每个元素都是从均值为0、方差为 $\\sigma^2$ 的正态分布中随机抽取的。  \n",
    "  - $B$ 初始化为零矩阵，即 $B = 0$ 。  \n",
    "\n",
    "**步骤4：矩阵乘积**  \n",
    "- 通过矩阵乘积 $BA$ ，可以得到一个近似的 $d \\times d$ 矩阵：  \n",
    "  $\n",
    "  W' = BA\n",
    "  $\n",
    "  其中 $W' \\approx \\Delta W$ 。\n",
    "\n",
    "**步骤5：优化和训练**  \n",
    "- 在训练过程中，通过优化算法（如梯度下降），不断调整矩阵 $A$ 和 $B$ 的值，使得 $W'$ 更加接近于 $\\Delta W$ 。  \n",
    "- 损失函数通常是衡量 $\\Delta W$ 与 $W'$ 之间差距的一个函数，例如均方误差：  \n",
    "  $\n",
    "  L = \\| \\Delta W - BA \\|_F^2\n",
    "  $\n",
    "  \n",
    "\n",
    "**步骤6：更新规则**  \n",
    "- 通过优化算法计算损失函数关于 $A$ 和 $B$ 的梯度，并更新 $A$ 和 $B$ 的值。例如，使用梯度下降法更新规则如下：\n",
    "  \n",
    "  $\n",
    "  A \\leftarrow A - \\eta \\frac{\\partial L}{\\partial A}\n",
    "  $\n",
    "  \n",
    "  $\n",
    "  B \\leftarrow B - \\eta \\frac{\\partial L}{\\partial B}\n",
    "  $  \n",
    "\n",
    "  其中 $\\eta$ 是学习率。\n"
   ]
  },
  {
   "cell_type": "markdown",
   "id": "7bb00c1e-9fcb-4916-8e8b-69066c7aebb2",
   "metadata": {},
   "source": [
    "## 1.2 举例说明"
   ]
  },
  {
   "cell_type": "code",
   "execution_count": 36,
   "id": "26810f6a-a804-4456-b8ab-43ab7e800eb0",
   "metadata": {
    "tags": []
   },
   "outputs": [],
   "source": [
    "import numpy as np\n",
    "\n",
    "# 初始化矩阵 W\n",
    "W = np.array([[4, 3, 2, 1],\n",
    "              [2, 2, 2, 2],\n",
    "              [1, 3, 4, 2],\n",
    "              [0, 1, 2, 3]])"
   ]
  },
  {
   "cell_type": "code",
   "execution_count": 37,
   "id": "b4cb147a-dfa4-4ccf-a5d7-e26081993fa4",
   "metadata": {
    "tags": []
   },
   "outputs": [],
   "source": [
    "# 矩阵维度\n",
    "d = W.shape[0] # 4\n",
    "\n",
    "# 秩\n",
    "r = 2\n",
    "\n",
    "# 随机初始化 A 和 B\n",
    "np.random.seed(42)\n",
    "\n",
    "# A 服从标准正态分布, B 初始化为 0 矩阵\n",
    "A = np.random.randn(d, r)\n",
    "B = np.zeros((r, d))"
   ]
  },
  {
   "cell_type": "code",
   "execution_count": 38,
   "id": "2e941845-82ea-4921-9d3b-0f33811d740d",
   "metadata": {
    "tags": []
   },
   "outputs": [
    {
     "data": {
      "text/plain": [
       "array([[ 0.49671415, -0.1382643 ],\n",
       "       [ 0.64768854,  1.52302986],\n",
       "       [-0.23415337, -0.23413696],\n",
       "       [ 1.57921282,  0.76743473]])"
      ]
     },
     "execution_count": 38,
     "metadata": {},
     "output_type": "execute_result"
    }
   ],
   "source": [
    "A "
   ]
  },
  {
   "cell_type": "code",
   "execution_count": 39,
   "id": "346e8d84-48db-4f49-8d16-2a362b9d3406",
   "metadata": {
    "tags": []
   },
   "outputs": [
    {
     "data": {
      "text/plain": [
       "array([[0., 0., 0., 0.],\n",
       "       [0., 0., 0., 0.]])"
      ]
     },
     "execution_count": 39,
     "metadata": {},
     "output_type": "execute_result"
    }
   ],
   "source": [
    "B"
   ]
  },
  {
   "cell_type": "code",
   "execution_count": 40,
   "id": "bf18eb69-480d-4eb2-a843-7e0bfbe02d1e",
   "metadata": {
    "tags": []
   },
   "outputs": [],
   "source": [
    "# 定义超参数\n",
    "\n",
    "lr = 0.01 # 学习率，用于控制梯度下降的步长。\n",
    "\n",
    "epochs = 1000 # 迭代次数，进行多少次梯度下降更新。"
   ]
  },
  {
   "cell_type": "code",
   "execution_count": 41,
   "id": "fb386096-ab21-4a85-ae73-281d1925af81",
   "metadata": {
    "tags": []
   },
   "outputs": [],
   "source": [
    "# 定义损失函数\n",
    "\n",
    "def loss_function(W, A, B):\n",
    "    '''\n",
    "    W：目标矩阵\n",
    "    A：矩阵分解中的一个矩阵，通常是随机初始化的。\n",
    "    B：矩阵分解中的另一个矩阵，通常是零矩阵初始化的。\n",
    "    '''\n",
    "    # 矩阵相乘，@是Python中的矩阵乘法运算符，相当于np.matmul(A, B)。\n",
    "    W_approx = A @ B\n",
    "    # 损失函数越小，表示 A 和 B 的乘积 W_approx越接近于目标矩阵 W\n",
    "    return np.linalg.norm(W - W_approx, \"fro\")**2"
   ]
  },
  {
   "cell_type": "code",
   "execution_count": 42,
   "id": "fd6623f8-3f9c-4fe0-b19c-46782701be45",
   "metadata": {
    "tags": []
   },
   "outputs": [],
   "source": [
    "# 定义梯度下降更新\n",
    "def gradient_descent(W, A, B, lr, epochs):\n",
    "    '''梯度下降法'''\n",
    "    # 用于记录损失值\n",
    "    loss_history = []\n",
    "    for i in range(epochs):\n",
    "        # 计算梯度\n",
    "        W_approx = A @ B\n",
    "        # 计算损失函数关于矩阵A的梯度\n",
    "        gd_A = -2 * (W - W_approx) @ B.T\n",
    "        # 计算损失函数关于矩阵B的梯度\n",
    "        gd_B = -2 * A.T @ ( W - W_approx)\n",
    "        # 使用梯度下降更新矩阵A和B\n",
    "        A -= lr * gd_A\n",
    "        B -= lr * gd_B\n",
    "        # 计算当前损失\n",
    "        loss = loss_function(W, A, B)\n",
    "        loss_history.append(loss)\n",
    "        # 每100个epoch打印一次\n",
    "        if i % 100 == 0:\n",
    "            print(f\"Epoch: {i} , 损失: {loss:.4f}\")\n",
    "    # 返回优化后的矩阵\n",
    "    return A, B, loss_history"
   ]
  },
  {
   "cell_type": "code",
   "execution_count": 43,
   "id": "b062341e-c025-4884-ae56-f934c13c0c2d",
   "metadata": {
    "tags": []
   },
   "outputs": [
    {
     "name": "stdout",
     "output_type": "stream",
     "text": [
      "Epoch: 0 , 损失: 85.2242\n",
      "Epoch: 100 , 损失: 2.7591\n",
      "Epoch: 200 , 损失: 2.3568\n",
      "Epoch: 300 , 损失: 2.3566\n",
      "Epoch: 400 , 损失: 2.3566\n",
      "Epoch: 500 , 损失: 2.3566\n",
      "Epoch: 600 , 损失: 2.3566\n",
      "Epoch: 700 , 损失: 2.3566\n",
      "Epoch: 800 , 损失: 2.3566\n",
      "Epoch: 900 , 损失: 2.3566\n"
     ]
    }
   ],
   "source": [
    "# 进行梯度下降优化\n",
    "\n",
    "A, B, loss_history = gradient_descent(W, A, B, lr, epochs)"
   ]
  },
  {
   "cell_type": "code",
   "execution_count": 44,
   "id": "a4b7f2cb-ea5d-44ea-8c0d-90cea487ae82",
   "metadata": {
    "tags": []
   },
   "outputs": [
    {
     "data": {
      "image/png": "[encoded data removed]",
      "text/plain": [
       "<Figure size 800x600 with 1 Axes>"
      ]
     },
     "metadata": {},
     "output_type": "display_data"
    }
   ],
   "source": [
    "# 绘制损失曲线\n",
    "import matplotlib.pyplot as plt\n",
    "\n",
    "plt.figure(figsize=(8,6))\n",
    "plt.plot(loss_history, label=\"loss\")\n",
    "plt.xlabel(\"Epochs\")\n",
    "plt.ylabel(\"Loss\")\n",
    "plt.title(\"Loss Curve\")\n",
    "plt.legend()\n",
    "plt.grid(True)\n",
    "plt.show()"
   ]
  },
  {
   "cell_type": "code",
   "execution_count": 47,
   "id": "c08d3519-3b73-4fa3-9466-62ec5f3b0e54",
   "metadata": {
    "tags": []
   },
   "outputs": [
    {
     "name": "stdout",
     "output_type": "stream",
     "text": [
      "[[ 3.92499196  3.06584542  2.10616302  0.84487308]\n",
      " [ 1.80749375  2.16899061  2.27246474  1.60187065]\n",
      " [ 1.39233235  2.65559308  3.44471033  2.81139716]\n",
      " [-0.31000446  1.27213581  2.43876645  2.35886822]]\n"
     ]
    }
   ],
   "source": [
    "# 最终的近似矩阵\n",
    "W_approx = A @ B\n",
    "\n",
    "print(W_approx)"
   ]
  },
  {
   "cell_type": "code",
   "execution_count": 48,
   "id": "e84df875-ac16-4dd1-a9a4-217e10b269c5",
   "metadata": {
    "tags": []
   },
   "outputs": [
    {
     "name": "stdout",
     "output_type": "stream",
     "text": [
      "[[4 3 2 1]\n",
      " [2 2 2 2]\n",
      " [1 3 4 2]\n",
      " [0 1 2 3]]\n"
     ]
    }
   ],
   "source": [
    "# 原始的矩阵 W\n",
    "\n",
    "print(W)"
   ]
  },
  {
   "cell_type": "code",
   "execution_count": null,
   "id": "0a2fca06-b5b4-4d78-91bd-73840934b368",
   "metadata": {},
   "outputs": [],
   "source": []
  },
  {
   "cell_type": "code",
   "execution_count": null,
   "id": "338fe8e7-5dbb-4ea9-9b5f-6456482b6224",
   "metadata": {},
   "outputs": [],
   "source": []
  }
 ],
 "metadata": {
  "kernelspec": {
   "display_name": "hello1",
   "language": "python",
   "name": "python3"
  },
  "language_info": {
   "codemirror_mode": {
    "name": "ipython",
    "version": 3
   },
   "file_extension": ".py",
   "mimetype": "text/x-python",
   "name": "python",
   "nbconvert_exporter": "python",
   "pygments_lexer": "ipython3",
   "version": "3.10.14"
  }
 },
 "nbformat": 4,
 "nbformat_minor": 5
}
